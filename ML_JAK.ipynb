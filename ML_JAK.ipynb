{
  "nbformat": 4,
  "nbformat_minor": 0,
  "metadata": {
    "colab": {
      "name": "ML_JAK.ipynb",
      "provenance": [],
      "collapsed_sections": [],
      "authorship_tag": "ABX9TyMs5YmgYDz5fwLe9/YH9Z2f",
      "include_colab_link": true
    },
    "kernelspec": {
      "name": "python3",
      "display_name": "Python 3"
    }
  },
  "cells": [
    {
      "cell_type": "markdown",
      "metadata": {
        "id": "view-in-github",
        "colab_type": "text"
      },
      "source": [
        "<a href=\"https://colab.research.google.com/github/jeeda4/ML/blob/master/ML_JAK.ipynb\" target=\"_parent\"><img src=\"https://colab.research.google.com/assets/colab-badge.svg\" alt=\"Open In Colab\"/></a>"
      ]
    },
    {
      "cell_type": "markdown",
      "metadata": {
        "id": "KypD8pf63jy6",
        "colab_type": "text"
      },
      "source": [
        "Jeeda AbuKhader \n",
        "\n",
        "Machine Learning- Loading Data and Classification \n"
      ]
    },
    {
      "cell_type": "code",
      "metadata": {
        "id": "-6vP4YZYFZzC",
        "colab_type": "code",
        "colab": {}
      },
      "source": [
        "#setting up  \n",
        "import functools\n",
        "import numpy as np\n",
        "import tensorflow as tf"
      ],
      "execution_count": 0,
      "outputs": []
    },
    {
      "cell_type": "code",
      "metadata": {
        "id": "faSLg7V8FnGr",
        "colab_type": "code",
        "colab": {
          "base_uri": "https://localhost:8080/",
          "height": 85
        },
        "outputId": "1d2715db-0a52-4807-a3a9-244cea133f0c"
      },
      "source": [
        "#Importing the data \n",
        "Train_Data = \"https://raw.githubusercontent.com/jeeda4/ML/master/train.csv\"\n",
        "Test_Data = \"https://raw.githubusercontent.com/jeeda4/ML/master/test.csv\"\n",
        "\n",
        "train_file_path = tf.keras.utils.get_file(\"train.csv\", Train_Data)\n",
        "test_file_path = tf.keras.utils.get_file(\"test.csv\", Test_Data)\n"
      ],
      "execution_count": 3,
      "outputs": [
        {
          "output_type": "stream",
          "text": [
            "Downloading data from https://raw.githubusercontent.com/jeeda4/ML/master/train.csv\n",
            "1499136/1493315 [==============================] - 0s 0us/step\n",
            "Downloading data from https://raw.githubusercontent.com/jeeda4/ML/master/test.csv\n",
            "1499136/1492816 [==============================] - 0s 0us/step\n"
          ],
          "name": "stdout"
        }
      ]
    },
    {
      "cell_type": "markdown",
      "metadata": {
        "id": "T1fRdfmE4r6M",
        "colab_type": "text"
      },
      "source": [
        "I split the data in R into train data and test data and put it on github. I use the link from my github in order to import the data. "
      ]
    },
    {
      "cell_type": "code",
      "metadata": {
        "id": "tT-nuBFPOi80",
        "colab_type": "code",
        "outputId": "94c689de-43ee-43b5-9286-7d64b3ccd15e",
        "colab": {
          "base_uri": "https://localhost:8080/",
          "height": 207
        }
      },
      "source": [
        "#Load Data\n",
        "!head {train_file_path}"
      ],
      "execution_count": 4,
      "outputs": [
        {
          "output_type": "stream",
          "text": [
            "\"\",\"X\",\"dvcat\",\"weight\",\"dead\",\"airbag\",\"seatbelt\",\"frontal\",\"sex\",\"ageOFocc\",\"yearacc\",\"yearVeh\",\"abcat\",\"occRole\",\"deploy\",\"injSeverity\",\"caseid\"\n",
            "\"1\",1,\"25-39\",25.0689999999013,\"alive\",\"none\",\"belted\",1,\"f\",26,1997,1990,\"unavail\",\"driver\",0,3,\"2:3:1\"\n",
            "\"3\",3,\"10-24\",32.3789999997243,\"alive\",\"none\",\"none\",1,\"f\",69,1997,1988,\"unavail\",\"driver\",0,4,\"2:5:1\"\n",
            "\"4\",4,\"25-39\",495.443999998271,\"alive\",\"airbag\",\"belted\",1,\"f\",53,1997,1995,\"deploy\",\"driver\",1,1,\"2:10:1\"\n",
            "\"5\",5,\"25-39\",25.0689999999013,\"alive\",\"none\",\"belted\",1,\"f\",32,1997,1988,\"unavail\",\"driver\",0,3,\"2:11:1\"\n",
            "\"6\",6,\"40-54\",25.0689999999013,\"alive\",\"none\",\"belted\",1,\"f\",22,1997,1985,\"unavail\",\"driver\",0,3,\"2:11:2\"\n",
            "\"11\",11,\"10-24\",812.868999995291,\"alive\",\"none\",\"belted\",1,\"m\",21,1997,1987,\"unavail\",\"pass\",0,0,\"2:14:2\"\n",
            "\"13\",13,\"10-24\",923.995999999344,\"alive\",\"airbag\",\"belted\",1,\"m\",67,1997,1991,\"deploy\",\"driver\",1,1,\"2:16:2\"\n",
            "\"16\",16,\"25-39\",29.0809999997728,\"alive\",\"none\",\"belted\",1,\"m\",71,1997,1990,\"unavail\",\"driver\",0,1,\"2:18:2\"\n",
            "\"17\",17,\"25-39\",29.0809999997728,\"alive\",\"none\",\"belted\",1,\"f\",63,1997,1990,\"unavail\",\"pass\",0,3,\"2:18:2\"\n"
          ],
          "name": "stdout"
        }
      ]
    },
    {
      "cell_type": "code",
      "metadata": {
        "id": "_wmd-uaWQkHT",
        "colab_type": "code",
        "colab": {}
      },
      "source": [
        "#Specify col to be classified\n",
        "LABEL_COLUMN = 'injSeverity'\n",
        "LABELS = [0, 1, 2, 3, 4, 5, 6]"
      ],
      "execution_count": 0,
      "outputs": []
    },
    {
      "cell_type": "code",
      "metadata": {
        "id": "q1ZGeChcSWmi",
        "colab_type": "code",
        "colab": {}
      },
      "source": [
        "#read csv from file \n",
        "#create dataset\n",
        "def get_dataset(file_path, **kwargs):\n",
        "  dataset = tf.data.experimental.make_csv_dataset(\n",
        "      file_path,\n",
        "      batch_size=5, # Artificially small to make examples easier to show.\n",
        "      label_name=LABEL_COLUMN,\n",
        "      na_value=\"?\",\n",
        "      select_columns = ['dvcat', 'weight', 'dead', 'airbag','seatbelt','frontal','sex','ageOFocc','yearacc','yearVeh','abcat','occRole','deploy','injSeverity'],\n",
        "      num_epochs=1,\n",
        "      ignore_errors=True, \n",
        "      **kwargs)\n",
        "  return dataset\n",
        "\n",
        "raw_train_data = get_dataset(train_file_path)\n",
        "raw_test_data = get_dataset(test_file_path)"
      ],
      "execution_count": 0,
      "outputs": []
    },
    {
      "cell_type": "code",
      "metadata": {
        "id": "njtIU8dtSwXA",
        "colab_type": "code",
        "colab": {}
      },
      "source": [
        "def show_batch(dataset):\n",
        "  for batch, label in dataset.take(1):\n",
        "    for key, value in batch.items():\n",
        "      print(\"{:20s}: {}\".format(key,value.numpy()))"
      ],
      "execution_count": 0,
      "outputs": []
    },
    {
      "cell_type": "code",
      "metadata": {
        "id": "kCA_EorWSz01",
        "colab_type": "code",
        "outputId": "f96035e3-dabd-4b2e-9bad-59968eb0d522",
        "colab": {
          "base_uri": "https://localhost:8080/",
          "height": 238
        }
      },
      "source": [
        "show_batch(raw_train_data)"
      ],
      "execution_count": 8,
      "outputs": [
        {
          "output_type": "stream",
          "text": [
            "dvcat               : [b'10-24' b'25-39' b'40-54' b'1-9km/h' b'1-9km/h']\n",
            "weight              : [335.014 114.079  54.303 916.902 197.853]\n",
            "dead                : [b'alive' b'alive' b'alive' b'alive' b'alive']\n",
            "airbag              : [b'airbag' b'none' b'airbag' b'airbag' b'none']\n",
            "seatbelt            : [b'belted' b'belted' b'none' b'none' b'none']\n",
            "frontal             : [1 1 1 0 0]\n",
            "sex                 : [b'f' b'm' b'm' b'm' b'm']\n",
            "ageOFocc            : [55 38 22 24 44]\n",
            "yearacc             : [1999 1999 2001 1997 1998]\n",
            "yearVeh             : [1996 1989 1997 1997 1988]\n",
            "abcat               : [b'nodeploy' b'unavail' b'deploy' b'nodeploy' b'unavail']\n",
            "occRole             : [b'driver' b'driver' b'pass' b'driver' b'driver']\n",
            "deploy              : [0 0 1 0 0]\n"
          ],
          "name": "stdout"
        }
      ]
    },
    {
      "cell_type": "markdown",
      "metadata": {
        "id": "n9mj10eI5VHq",
        "colab_type": "text"
      },
      "source": [
        "Data Processing: \n"
      ]
    },
    {
      "cell_type": "code",
      "metadata": {
        "id": "M8J82t-ahGko",
        "colab_type": "code",
        "colab": {}
      },
      "source": [
        "#data processing \n",
        "\n",
        "#for continious data \n",
        "\n",
        "class PackNumericFeatures(object):\n",
        "  def __init__(self, names):\n",
        "    self.names = names\n",
        "  def __call__(self, features, labels):\n",
        "    numeric_features = [features.pop(name) for name in self.names]\n",
        "    numeric_features = [tf.cast(feat, tf.float32) for feat in numeric_features]\n",
        "    numeric_features = tf.stack(numeric_features, axis=-1)\n",
        "    features['numeric'] = numeric_features\n",
        "    return features, labels\n",
        "\n"
      ],
      "execution_count": 0,
      "outputs": []
    },
    {
      "cell_type": "code",
      "metadata": {
        "id": "_E4T7a5ThRpw",
        "colab_type": "code",
        "colab": {}
      },
      "source": [
        "NUMERIC_FEATURES = ['weight' , 'frontal' , 'ageOFocc' , 'yearacc', 'yearVeh', 'deploy']\n",
        "packed_train_data = raw_train_data.map(\n",
        "    PackNumericFeatures(NUMERIC_FEATURES))\n",
        "packed_test_data = raw_test_data.map(\n",
        "    PackNumericFeatures(NUMERIC_FEATURES))\n"
      ],
      "execution_count": 0,
      "outputs": []
    },
    {
      "cell_type": "code",
      "metadata": {
        "id": "wGycAAi8hZgX",
        "colab_type": "code",
        "outputId": "f0e49164-b61a-41da-de3d-dd242072cfb0",
        "colab": {
          "base_uri": "https://localhost:8080/",
          "height": 221
        }
      },
      "source": [
        "show_batch(packed_train_data)"
      ],
      "execution_count": 11,
      "outputs": [
        {
          "output_type": "stream",
          "text": [
            "dvcat               : [b'10-24' b'25-39' b'25-39' b'25-39' b'10-24']\n",
            "dead                : [b'alive' b'alive' b'alive' b'alive' b'alive']\n",
            "airbag              : [b'airbag' b'none' b'airbag' b'none' b'none']\n",
            "seatbelt            : [b'belted' b'belted' b'belted' b'belted' b'none']\n",
            "sex                 : [b'f' b'f' b'm' b'f' b'm']\n",
            "abcat               : [b'deploy' b'unavail' b'nodeploy' b'unavail' b'unavail']\n",
            "occRole             : [b'pass' b'driver' b'driver' b'driver' b'driver']\n",
            "numeric             : [[2.55585e+02 1.00000e+00 5.10000e+01 1.99800e+03 1.99500e+03 1.00000e+00]\n",
            " [8.39340e+01 0.00000e+00 2.60000e+01 1.99900e+03 1.99200e+03 0.00000e+00]\n",
            " [5.80100e+02 0.00000e+00 2.40000e+01 2.00000e+03 1.99500e+03 0.00000e+00]\n",
            " [4.59502e+02 1.00000e+00 8.00000e+01 1.99900e+03 1.98900e+03 0.00000e+00]\n",
            " [7.77506e+02 1.00000e+00 1.60000e+01 1.99800e+03 1.98500e+03 0.00000e+00]]\n"
          ],
          "name": "stdout"
        }
      ]
    },
    {
      "cell_type": "code",
      "metadata": {
        "id": "pOaX0rzAhiuc",
        "colab_type": "code",
        "colab": {}
      },
      "source": [
        "#normalizing continious data\n",
        "import pandas as pd\n",
        "desc = pd.read_csv(train_file_path)[NUMERIC_FEATURES].describe()\n",
        "desc\n",
        "example_batch, labels_batch = next(iter(packed_train_data)) "
      ],
      "execution_count": 0,
      "outputs": []
    },
    {
      "cell_type": "code",
      "metadata": {
        "id": "qz_HqV_MiDk1",
        "colab_type": "code",
        "colab": {}
      },
      "source": [
        "MEAN = np.array(desc.T['mean'])\n",
        "STD = np.array(desc.T['std'])\n",
        "\n",
        "def normalize_numeric_data(data, mean, std):\n",
        "  return (data-mean)/std"
      ],
      "execution_count": 0,
      "outputs": []
    },
    {
      "cell_type": "code",
      "metadata": {
        "id": "y1jxFcAYivl1",
        "colab_type": "code",
        "colab": {}
      },
      "source": [
        "normalizer = functools.partial(normalize_numeric_data, mean=MEAN, std=STD)"
      ],
      "execution_count": 0,
      "outputs": []
    },
    {
      "cell_type": "code",
      "metadata": {
        "id": "LEUrjdUljzVW",
        "colab_type": "code",
        "outputId": "71f60720-67e6-43fd-b82c-97f1178ce9dd",
        "colab": {
          "base_uri": "https://localhost:8080/",
          "height": 88
        }
      },
      "source": [
        "numeric_column = tf.feature_column.numeric_column('numeric', normalizer_fn=normalizer, shape=[len(NUMERIC_FEATURES)])\n",
        "numeric_columns = [numeric_column]\n",
        "numeric_column"
      ],
      "execution_count": 15,
      "outputs": [
        {
          "output_type": "execute_result",
          "data": {
            "text/plain": [
              "NumericColumn(key='numeric', shape=(6,), default_value=None, dtype=tf.float32, normalizer_fn=functools.partial(<function normalize_numeric_data at 0x7f36936a1730>, mean=array([4.56156649e+02, 6.38645206e-01, 3.72780532e+01, 1.99955534e+03,\n",
              "       1.99281684e+03, 3.35342131e-01]), std=array([1.40915921e+03, 4.80411400e-01, 1.80156145e+01, 1.70271235e+00,\n",
              "       5.57710976e+00, 4.72127938e-01])))"
            ]
          },
          "metadata": {
            "tags": []
          },
          "execution_count": 15
        }
      ]
    },
    {
      "cell_type": "code",
      "metadata": {
        "id": "zXl1xChHj6UD",
        "colab_type": "code",
        "outputId": "22df634d-286a-40a0-ad24-b59f8dd7a71c",
        "colab": {
          "base_uri": "https://localhost:8080/",
          "height": 204
        }
      },
      "source": [
        "example_batch['numeric']"
      ],
      "execution_count": 16,
      "outputs": [
        {
          "output_type": "execute_result",
          "data": {
            "text/plain": [
              "<tf.Tensor: shape=(5, 6), dtype=float32, numpy=\n",
              "array([[3.752800e+01, 0.000000e+00, 2.000000e+01, 1.997000e+03,\n",
              "        1.997000e+03, 1.000000e+00],\n",
              "       [2.817200e+01, 1.000000e+00, 7.300000e+01, 1.999000e+03,\n",
              "        1.993000e+03, 1.000000e+00],\n",
              "       [2.614400e+01, 1.000000e+00, 5.000000e+01, 2.000000e+03,\n",
              "        1.983000e+03, 0.000000e+00],\n",
              "       [7.270900e+01, 0.000000e+00, 3.800000e+01, 2.000000e+03,\n",
              "        1.997000e+03, 1.000000e+00],\n",
              "       [3.017681e+03, 1.000000e+00, 3.800000e+01, 2.001000e+03,\n",
              "        1.995000e+03, 0.000000e+00]], dtype=float32)>"
            ]
          },
          "metadata": {
            "tags": []
          },
          "execution_count": 16
        }
      ]
    },
    {
      "cell_type": "code",
      "metadata": {
        "id": "MEZk-Qk1kbup",
        "colab_type": "code",
        "outputId": "ff4c94c9-8dc2-4564-da75-642175c5f9e3",
        "colab": {
          "base_uri": "https://localhost:8080/",
          "height": 187
        }
      },
      "source": [
        "numeric_layer = tf.keras.layers.DenseFeatures(numeric_columns)\n",
        "numeric_layer(example_batch).numpy()"
      ],
      "execution_count": 17,
      "outputs": [
        {
          "output_type": "execute_result",
          "data": {
            "text/plain": [
              "array([[-0.2970769 , -1.3293715 , -0.95905983, -1.500722  ,  0.750049  ,\n",
              "         1.4077917 ],\n",
              "       [-0.30371633,  0.7521777 ,  1.9828324 , -0.32612547,  0.03283161,\n",
              "         1.4077917 ],\n",
              "       [-0.3051555 ,  0.7521777 ,  0.7061622 ,  0.2611728 , -1.7602118 ,\n",
              "        -0.7102781 ],\n",
              "       [-0.27211094, -1.3293715 ,  0.04007339,  0.2611728 ,  0.750049  ,\n",
              "         1.4077917 ],\n",
              "       [ 1.8177677 ,  0.7521777 ,  0.04007339,  0.8484711 ,  0.3914403 ,\n",
              "        -0.7102781 ]], dtype=float32)"
            ]
          },
          "metadata": {
            "tags": []
          },
          "execution_count": 17
        }
      ]
    },
    {
      "cell_type": "code",
      "metadata": {
        "id": "HZYunFkZkb9-",
        "colab_type": "code",
        "colab": {}
      },
      "source": [
        "CATEGORIES = {\n",
        "    'dvcat': ['1-9km/h', '10-24', '25-39', '40-54', '55+'],\n",
        "    'dead' : ['alive', 'dead'],\n",
        "    'airbag' : ['airbag', 'none'],\n",
        "    'seatbelt' : ['belted', 'none'],\n",
        "    'sex' : ['f', 'm'],\n",
        "    'abcat' : ['deploy', 'nodeploy', 'unavail'],\n",
        "    'occRole' : ['driver', 'pass']\n",
        "}"
      ],
      "execution_count": 0,
      "outputs": []
    },
    {
      "cell_type": "code",
      "metadata": {
        "id": "XIKyDWhYl-p5",
        "colab_type": "code",
        "outputId": "fc655aa7-7408-4924-ad40-271e92a6e7c9",
        "colab": {
          "base_uri": "https://localhost:8080/",
          "height": 156
        }
      },
      "source": [
        "categorical_columns = []\n",
        "for feature, vocab in CATEGORIES.items():\n",
        "  cat_col = tf.feature_column.categorical_column_with_vocabulary_list(\n",
        "        key=feature, vocabulary_list=vocab)\n",
        "  categorical_columns.append(tf.feature_column.indicator_column(cat_col))\n",
        "categorical_columns"
      ],
      "execution_count": 19,
      "outputs": [
        {
          "output_type": "execute_result",
          "data": {
            "text/plain": [
              "[IndicatorColumn(categorical_column=VocabularyListCategoricalColumn(key='dvcat', vocabulary_list=('1-9km/h', '10-24', '25-39', '40-54', '55+'), dtype=tf.string, default_value=-1, num_oov_buckets=0)),\n",
              " IndicatorColumn(categorical_column=VocabularyListCategoricalColumn(key='dead', vocabulary_list=('alive', 'dead'), dtype=tf.string, default_value=-1, num_oov_buckets=0)),\n",
              " IndicatorColumn(categorical_column=VocabularyListCategoricalColumn(key='airbag', vocabulary_list=('airbag', 'none'), dtype=tf.string, default_value=-1, num_oov_buckets=0)),\n",
              " IndicatorColumn(categorical_column=VocabularyListCategoricalColumn(key='seatbelt', vocabulary_list=('belted', 'none'), dtype=tf.string, default_value=-1, num_oov_buckets=0)),\n",
              " IndicatorColumn(categorical_column=VocabularyListCategoricalColumn(key='sex', vocabulary_list=('f', 'm'), dtype=tf.string, default_value=-1, num_oov_buckets=0)),\n",
              " IndicatorColumn(categorical_column=VocabularyListCategoricalColumn(key='abcat', vocabulary_list=('deploy', 'nodeploy', 'unavail'), dtype=tf.string, default_value=-1, num_oov_buckets=0)),\n",
              " IndicatorColumn(categorical_column=VocabularyListCategoricalColumn(key='occRole', vocabulary_list=('driver', 'pass'), dtype=tf.string, default_value=-1, num_oov_buckets=0))]"
            ]
          },
          "metadata": {
            "tags": []
          },
          "execution_count": 19
        }
      ]
    },
    {
      "cell_type": "code",
      "metadata": {
        "id": "2VMbKMgGmBvo",
        "colab_type": "code",
        "outputId": "050571b0-83e8-4f24-b63a-8924bc6a1cc7",
        "colab": {
          "base_uri": "https://localhost:8080/",
          "height": 34
        }
      },
      "source": [
        "categorical_layer = tf.keras.layers.DenseFeatures(categorical_columns)\n",
        "print(categorical_layer(example_batch).numpy()[0])"
      ],
      "execution_count": 20,
      "outputs": [
        {
          "output_type": "stream",
          "text": [
            "[1. 0. 0. 1. 0. 1. 0. 0. 0. 1. 0. 0. 1. 0. 1. 0. 1. 0.]\n"
          ],
          "name": "stdout"
        }
      ]
    },
    {
      "cell_type": "code",
      "metadata": {
        "id": "uTe7ZkiLmEKo",
        "colab_type": "code",
        "outputId": "99bc26be-3b4f-46e4-b3d0-2cf251390ef9",
        "colab": {
          "base_uri": "https://localhost:8080/",
          "height": 85
        }
      },
      "source": [
        "preprocessing_layer = tf.keras.layers.DenseFeatures(categorical_columns+numeric_columns)\n",
        "print(preprocessing_layer(example_batch).numpy()[0])"
      ],
      "execution_count": 21,
      "outputs": [
        {
          "output_type": "stream",
          "text": [
            "[ 1.          0.          0.          1.          0.          1.\n",
            "  0.          0.          0.          1.          0.          0.\n",
            " -0.2970769  -1.3293715  -0.95905983 -1.500722    0.750049    1.4077917\n",
            "  1.          0.          1.          0.          1.          0.        ]\n"
          ],
          "name": "stdout"
        }
      ]
    },
    {
      "cell_type": "markdown",
      "metadata": {
        "id": "WUg1vRWJmMvU",
        "colab_type": "text"
      },
      "source": [
        "\n",
        "# Building the model"
      ]
    },
    {
      "cell_type": "code",
      "metadata": {
        "id": "niBMo3yTmP2x",
        "colab_type": "code",
        "colab": {}
      },
      "source": [
        "model = tf.keras.Sequential([\n",
        "  preprocessing_layer,\n",
        "  tf.keras.layers.Dense(128, activation='relu'),\n",
        "  tf.keras.layers.Dense(128, activation='relu'),\n",
        "  tf.keras.layers.Dense(1, activation='softmax')\n",
        "])\n",
        "\n",
        "model.compile(\n",
        "    loss=tf.keras.losses.CategoricalCrossentropy(from_logits=True),\n",
        "    optimizer='adam',\n",
        "    metrics=['accuracy'])\n",
        "\n",
        "#model.fit(train_data, epochs=2)"
      ],
      "execution_count": 0,
      "outputs": []
    },
    {
      "cell_type": "markdown",
      "metadata": {
        "id": "rJS5X_AOmjLj",
        "colab_type": "text"
      },
      "source": [
        "Train, evaluate, and predict:"
      ]
    },
    {
      "cell_type": "code",
      "metadata": {
        "id": "LAegZWk_mkl6",
        "colab_type": "code",
        "colab": {}
      },
      "source": [
        "train_data = packed_train_data.shuffle(500)\n",
        "test_data = packed_test_data"
      ],
      "execution_count": 0,
      "outputs": []
    },
    {
      "cell_type": "code",
      "metadata": {
        "id": "1AgDcezrmoVl",
        "colab_type": "code",
        "outputId": "fb658b2e-74dc-4d0c-ed61-1faf1be85e67",
        "colab": {
          "base_uri": "https://localhost:8080/",
          "height": 714
        }
      },
      "source": [
        "model.fit(train_data, epochs=20)"
      ],
      "execution_count": 24,
      "outputs": [
        {
          "output_type": "stream",
          "text": [
            "Epoch 1/20\n",
            "2608/2608 [==============================] - 5s 2ms/step - loss: 0.0000e+00 - accuracy: 0.2144\n",
            "Epoch 2/20\n",
            "2608/2608 [==============================] - 5s 2ms/step - loss: 0.0000e+00 - accuracy: 0.2144\n",
            "Epoch 3/20\n",
            "2608/2608 [==============================] - 5s 2ms/step - loss: 0.0000e+00 - accuracy: 0.2144\n",
            "Epoch 4/20\n",
            "2608/2608 [==============================] - 5s 2ms/step - loss: 0.0000e+00 - accuracy: 0.2144\n",
            "Epoch 5/20\n",
            "2608/2608 [==============================] - 5s 2ms/step - loss: 0.0000e+00 - accuracy: 0.2144\n",
            "Epoch 6/20\n",
            "2608/2608 [==============================] - 5s 2ms/step - loss: 0.0000e+00 - accuracy: 0.2144\n",
            "Epoch 7/20\n",
            "2608/2608 [==============================] - 5s 2ms/step - loss: 0.0000e+00 - accuracy: 0.2144\n",
            "Epoch 8/20\n",
            "2608/2608 [==============================] - 5s 2ms/step - loss: 0.0000e+00 - accuracy: 0.2144\n",
            "Epoch 9/20\n",
            "2608/2608 [==============================] - 5s 2ms/step - loss: 0.0000e+00 - accuracy: 0.2144\n",
            "Epoch 10/20\n",
            "2608/2608 [==============================] - 5s 2ms/step - loss: 0.0000e+00 - accuracy: 0.2144\n",
            "Epoch 11/20\n",
            "2608/2608 [==============================] - 5s 2ms/step - loss: 0.0000e+00 - accuracy: 0.2144\n",
            "Epoch 12/20\n",
            "2608/2608 [==============================] - 5s 2ms/step - loss: 0.0000e+00 - accuracy: 0.2144\n",
            "Epoch 13/20\n",
            "2608/2608 [==============================] - 5s 2ms/step - loss: 0.0000e+00 - accuracy: 0.2144\n",
            "Epoch 14/20\n",
            "2608/2608 [==============================] - 5s 2ms/step - loss: 0.0000e+00 - accuracy: 0.2144\n",
            "Epoch 15/20\n",
            "2608/2608 [==============================] - 5s 2ms/step - loss: 0.0000e+00 - accuracy: 0.2144\n",
            "Epoch 16/20\n",
            "2608/2608 [==============================] - 5s 2ms/step - loss: 0.0000e+00 - accuracy: 0.2144\n",
            "Epoch 17/20\n",
            "2608/2608 [==============================] - 5s 2ms/step - loss: 0.0000e+00 - accuracy: 0.2144\n",
            "Epoch 18/20\n",
            "2608/2608 [==============================] - 5s 2ms/step - loss: 0.0000e+00 - accuracy: 0.2144\n",
            "Epoch 19/20\n",
            "2608/2608 [==============================] - 5s 2ms/step - loss: 0.0000e+00 - accuracy: 0.2144\n",
            "Epoch 20/20\n",
            "2608/2608 [==============================] - 5s 2ms/step - loss: 0.0000e+00 - accuracy: 0.2144\n"
          ],
          "name": "stdout"
        },
        {
          "output_type": "execute_result",
          "data": {
            "text/plain": [
              "<tensorflow.python.keras.callbacks.History at 0x7f36936abc50>"
            ]
          },
          "metadata": {
            "tags": []
          },
          "execution_count": 24
        }
      ]
    },
    {
      "cell_type": "code",
      "metadata": {
        "id": "LowQqcB-nNuo",
        "colab_type": "code",
        "outputId": "56b0e3c9-ff68-467d-9ac8-64147b0cadf5",
        "colab": {
          "base_uri": "https://localhost:8080/",
          "height": 85
        }
      },
      "source": [
        "test_loss, test_accuracy = model.evaluate(test_data)\n",
        "\n",
        "print('\\n\\nTest Loss {}, Test Accuracy {}'.format(test_loss, test_accuracy))"
      ],
      "execution_count": 25,
      "outputs": [
        {
          "output_type": "stream",
          "text": [
            "2606/2606 [==============================] - 4s 1ms/step - loss: 0.0000e+00 - accuracy: 0.2150\n",
            "\n",
            "\n",
            "Test Loss 0.0, Test Accuracy 0.2149547040462494\n"
          ],
          "name": "stdout"
        }
      ]
    },
    {
      "cell_type": "markdown",
      "metadata": {
        "id": "uPFim9eAnfT9",
        "colab_type": "text"
      },
      "source": [
        "Our model's accuracy rate is 21.5%. That is extremley low\n",
        " \n"
      ]
    },
    {
      "cell_type": "code",
      "metadata": {
        "id": "qB3HrWnn6VUX",
        "colab_type": "code",
        "colab": {
          "base_uri": "https://localhost:8080/",
          "height": 136
        },
        "outputId": "3e0969b5-b7a3-4318-dfa2-78a54315342f"
      },
      "source": [
        "predictions = model.predict(test_data)\n",
        "print(predictions)"
      ],
      "execution_count": 28,
      "outputs": [
        {
          "output_type": "stream",
          "text": [
            "[[1.]\n",
            " [1.]\n",
            " [1.]\n",
            " ...\n",
            " [1.]\n",
            " [1.]\n",
            " [1.]]\n"
          ],
          "name": "stdout"
        }
      ]
    },
    {
      "cell_type": "markdown",
      "metadata": {
        "id": "3PJsHW0Y5648",
        "colab_type": "text"
      },
      "source": [
        "Confusion Matrix:"
      ]
    },
    {
      "cell_type": "code",
      "metadata": {
        "id": "LanGSbTb7wJC",
        "colab_type": "code",
        "colab": {}
      },
      "source": [
        "#from tensorflow.contrib.metrics import streaming_accuracy\n",
        "#y_ = LABELS \n",
        "#y = predictions\n",
        "#confusion = tf.confusion_matrix(labels=y_, predictions=y, num_classes=7)"
      ],
      "execution_count": 0,
      "outputs": []
    }
  ]
}